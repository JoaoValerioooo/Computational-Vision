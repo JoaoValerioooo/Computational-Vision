{
  "cells": [
    {
      "cell_type": "markdown",
      "metadata": {
        "id": "Sk0eYw8ojrFq"
      },
      "source": [
        "# Laboratory #3_2 : Image Classification using Bag of Visual Words\n",
        "\n",
        "At the end of this laboratory, you would get familiarized with\n",
        "\n",
        "*   Creating Bag of Visual Words\n",
        "    *   Feature Extraction\n",
        "    *   Codebook construction\n",
        "    *   Classification\n",
        "\n",
        "**Remember this is a graded exercise.**\n",
        "\n",
        "*   For every plot, make sure you provide appropriate titles, axis labels, legends, wherever applicable.\n",
        "*   Create reusable functions where ever possible, so that the code could be reused at different places.\n",
        "*   Mount your drive to access the images.\n",
        "*   Add sufficient comments and explanations wherever necessary.\n",
        "\n",
        "---"
      ]
    },
    {
      "cell_type": "code",
      "execution_count": 16,
      "metadata": {
        "colab": {
          "base_uri": "https://localhost:8080/"
        },
        "id": "sYHw1lSBldl-",
        "outputId": "c1affcc7-28f9-4e0f-82dd-2bddf5e86d9a"
      },
      "outputs": [
        {
          "output_type": "stream",
          "name": "stdout",
          "text": [
            "Drive already mounted at /content/drive; to attempt to forcibly remount, call drive.mount(\"/content/drive\", force_remount=True).\n"
          ]
        }
      ],
      "source": [
        "from google.colab import drive\n",
        "drive.mount('/content/drive')"
      ]
    },
    {
      "cell_type": "code",
      "execution_count": 17,
      "metadata": {
        "id": "aD5-E8PuaQ5P"
      },
      "outputs": [],
      "source": [
        "# Loading necessary libraries (Feel free to add new libraries if you need for any computation)\n",
        "\n",
        "import os\n",
        "import numpy as np\n",
        "\n",
        "from skimage.feature import ORB\n",
        "from skimage.color import rgb2gray\n",
        "from skimage.io import imread\n",
        "from scipy.cluster.vq import vq\n",
        "from matplotlib import pyplot as plt"
      ]
    },
    {
      "cell_type": "markdown",
      "metadata": {
        "id": "ampx9DIJiuGN"
      },
      "source": [
        "## Loading dataset\n",
        "\n",
        "We will use 3 categories from Caltech 101 objects dataset for this experiment. Upload the dataset to the drive and mount it."
      ]
    },
    {
      "cell_type": "code",
      "execution_count": 18,
      "metadata": {
        "id": "PRSJP1XbG6-a"
      },
      "outputs": [],
      "source": [
        "# Path from your drive\n",
        "dataset_path = r'/content/drive/MyDrive/Caltech_101_subset'"
      ]
    },
    {
      "cell_type": "code",
      "execution_count": 19,
      "metadata": {
        "id": "fNoe7u755X6Q"
      },
      "outputs": [],
      "source": [
        "categories = ['butterfly', 'kangaroo', 'dalmatian']\n",
        "ncl = len(categories) * 10"
      ]
    },
    {
      "cell_type": "markdown",
      "metadata": {
        "id": "gxY0mDoK5EQj"
      },
      "source": [
        "*   Create a list of file and the corresponding labels"
      ]
    },
    {
      "cell_type": "code",
      "execution_count": 20,
      "metadata": {
        "colab": {
          "base_uri": "https://localhost:8080/"
        },
        "id": "EQptvDX5AFem",
        "outputId": "d8526589-d1ca-4763-929f-96e500e8b260"
      },
      "outputs": [
        {
          "output_type": "stream",
          "name": "stderr",
          "text": [
            "/usr/local/lib/python3.7/dist-packages/ipykernel_launcher.py:4: FutureWarning: The behavior of rgb2gray will change in scikit-image 0.19. Currently, rgb2gray allows 2D grayscale image to be passed as inputs and leaves them unmodified as outputs. Starting from version 0.19, 2D arrays will be treated as 1D images with 3 channels.\n",
            "  after removing the cwd from sys.path.\n"
          ]
        }
      ],
      "source": [
        "import glob\n",
        "data = []\n",
        "for categorie in ['butterfly', 'kangaroo', 'dalmatian']:\n",
        "  data += [[rgb2gray(imread(im)), categorie] for im in glob.glob(dataset_path + '/' + categorie + '/*.jpg')]"
      ]
    },
    {
      "cell_type": "code",
      "execution_count": 21,
      "metadata": {
        "colab": {
          "base_uri": "https://localhost:8080/"
        },
        "id": "3x42veHz5LDt",
        "outputId": "0b28b9a4-c13e-48e3-a75e-3deeb02a5546"
      },
      "outputs": [
        {
          "output_type": "stream",
          "name": "stdout",
          "text": [
            "Total number of images: 244\n"
          ]
        }
      ],
      "source": [
        "print('Total number of images:', len(data))"
      ]
    },
    {
      "cell_type": "markdown",
      "metadata": {
        "id": "XgVhdjYz5Zhs"
      },
      "source": [
        "*   Create a train / test split where the test is 10% of the total data"
      ]
    },
    {
      "cell_type": "code",
      "execution_count": 22,
      "metadata": {
        "id": "QzYnjzXBZXXt"
      },
      "outputs": [],
      "source": [
        "import random\n",
        "\n",
        "# Split the data into classes\n",
        "butterfly_data = []\n",
        "kangaroo_data = []\n",
        "dalmatian_data = []\n",
        "for im in data:\n",
        "  if (im[1] == 'butterfly'): butterfly_data.append(im)\n",
        "  elif (im[1] == 'kangaroo'): kangaroo_data.append(im)\n",
        "  elif (im[1] == 'dalmatian'): dalmatian_data.append(im)\n",
        "\n",
        "# Shufffle the data to increase randomness\n",
        "random.shuffle(butterfly_data)\n",
        "random.shuffle(kangaroo_data)\n",
        "random.shuffle(dalmatian_data)\n",
        "\n",
        "# Split the data into train and test\n",
        "def data_splitter(data_sample):\n",
        "  limit = round(len(data_sample)*0.9)\n",
        "  x_train, x_test = data_sample[:limit], data_sample[limit:]\n",
        "  return x_train, x_test\n",
        "\n",
        "x_train = []\n",
        "x_test = []\n",
        "for data_sample in (butterfly_data, kangaroo_data, dalmatian_data):\n",
        "  x_train_prov, x_test_prov = data_splitter(data_sample)\n",
        "  x_train = x_train + x_train_prov\n",
        "  x_test = x_test + x_test_prov"
      ]
    },
    {
      "cell_type": "code",
      "execution_count": 23,
      "metadata": {
        "colab": {
          "base_uri": "https://localhost:8080/"
        },
        "id": "gd057lAc5jze",
        "outputId": "9c52d9f6-94ad-4440-c8a3-d6ca59b0a0b3"
      },
      "outputs": [
        {
          "output_type": "stream",
          "name": "stdout",
          "text": [
            "Train set: 219\n",
            "Test set: 25\n"
          ]
        }
      ],
      "source": [
        "print('Train set:', len(x_train))\n",
        "print('Test set:', len(x_test))"
      ]
    },
    {
      "cell_type": "markdown",
      "metadata": {
        "id": "_Hl36Ej_5k6Y"
      },
      "source": [
        "*   How do you select the train/test split?"
      ]
    },
    {
      "cell_type": "markdown",
      "metadata": {
        "id": "-aOe27Kx5vtd"
      },
      "source": [
        "**Solution**\n",
        "\n",
        "*   In order to select the train/test split, it is essential to consider the split size, the class representation and the randomness.\n",
        "\n",
        "    1. **Split size:** these values are pre-defined in the assignment (train - 90% and test - 10%);\n",
        "\n",
        "    2. **Classes representation:** It is secured that all the classes are represented in the training and testing set. So, in each category of data (butterfly, kangaroo and dalmatian), it is selected 90% to the training data and 10% to the test data.\n",
        "\n",
        "    3. **Randomness:** To include randomness in the data, the function shuffle is used.\n",
        "    Note that in different executions the accuracy results might vary depending on the shuffle."
      ]
    },
    {
      "cell_type": "markdown",
      "metadata": {
        "id": "18OZf2kfkVNB"
      },
      "source": [
        "## Feature Extraction using ORB\n",
        "\n",
        "The first step is to extract descriptors for each image in our dataset. We will use ORB to extract descriptors.\n",
        "\n",
        "*   Create ORB detector with 64 keypoints.\n"
      ]
    },
    {
      "cell_type": "code",
      "execution_count": 24,
      "metadata": {
        "id": "ptLbPcoow-ar"
      },
      "outputs": [],
      "source": [
        "# Creating the ORB detector\n",
        "ORB_detector = ORB(n_keypoints=64)"
      ]
    },
    {
      "cell_type": "markdown",
      "metadata": {
        "id": "3yinPkL8brow"
      },
      "source": [
        "*   Extract ORB descriptors from all the images in the train set.\n"
      ]
    },
    {
      "cell_type": "code",
      "execution_count": 25,
      "metadata": {
        "id": "PCiXJeLFxGtP"
      },
      "outputs": [],
      "source": [
        "# Get the descriptors\n",
        "def get_descriptors(x, detector):\n",
        "  # List of descriptors\n",
        "  x_descriptors = []\n",
        "  # Extract ORB descriptors\n",
        "  for im in x:\n",
        "    detector.detect_and_extract(im[0])\n",
        "    x_descriptors.append(detector.descriptors)\n",
        "  return x_descriptors\n",
        "\n",
        "# Get the descriptors from the train set\n",
        "x_train_descriptors = get_descriptors(x_train, ORB_detector)"
      ]
    },
    {
      "cell_type": "markdown",
      "metadata": {
        "id": "GJehFdyt583b"
      },
      "source": [
        "*   What is the size of the feature descriptors? What does each dimension represent in the feature descriptors?"
      ]
    },
    {
      "cell_type": "code",
      "execution_count": 26,
      "metadata": {
        "colab": {
          "base_uri": "https://localhost:8080/"
        },
        "id": "bzTspvF96LeC",
        "outputId": "d860352a-f644-4c8f-950b-3da386a3d232"
      },
      "outputs": [
        {
          "output_type": "stream",
          "name": "stdout",
          "text": [
            "Total size of the feature descriptors: 219\n"
          ]
        }
      ],
      "source": [
        "# Size\n",
        "print('Total size of the feature descriptors:', len(x_train_descriptors))"
      ]
    },
    {
      "cell_type": "markdown",
      "metadata": {
        "id": "MNFOjsRj6PGk"
      },
      "source": [
        "**Solution**\n",
        "\n",
        "*   In ORB, the descriptors are obtained based on the key points defined previously. Firstly, the key points are utilised to identify key regions of the image. Usually, a suitable key point is one that is invariant to varying lighting conditions, angle, scale, and background.\n",
        "\n",
        "    Based on that, descriptors are created in order to describe these key points. So, it is obtained as many features per image as the key points defined. Relatively to the dimensions, mainly, each descriptor uses the intensity centroid as a measure of the orientation. For the \"descriptors\" variable, the rows represent the number of key points and the columns are the descriptor size."
      ]
    },
    {
      "cell_type": "markdown",
      "metadata": {
        "id": "420YQkAzleTQ"
      },
      "source": [
        "## Codebook Construction\n",
        "\n",
        "Codewords are nothing but vector representation of similar patches. This codeword produces a codebook similar to a word dictionary. We will create the codebook using K-Means algorithm\n",
        "\n",
        "*   Create a codebook using K-Means with k=number_of_classes*10\n",
        "*   Hint: Use sklearn.cluster.MiniBatchKMeans for K-Means"
      ]
    },
    {
      "cell_type": "code",
      "execution_count": 27,
      "metadata": {
        "id": "iO0e4718ppJt"
      },
      "outputs": [],
      "source": [
        "from sklearn.cluster import MiniBatchKMeans\n",
        "\n",
        "# Reshape the descriptors of each image\n",
        "def reshaper(x_descriptors):\n",
        "  x_descriptors_reshape = []\n",
        "  for im in x_descriptors:\n",
        "    feat = []\n",
        "    for desc in im:\n",
        "      feat.extend(desc)\n",
        "    x_descriptors_reshape.append(feat)\n",
        "  return x_descriptors_reshape\n",
        "\n",
        "# Get the reshaped descriptors\n",
        "x_train_descriptors_reshape = reshaper(x_train_descriptors)\n",
        "# Cluster the descriptors\n",
        "kmeans = MiniBatchKMeans(n_clusters=ncl, random_state=1).fit(x_train_descriptors_reshape)"
      ]
    },
    {
      "cell_type": "markdown",
      "metadata": {
        "id": "0GAD_JuNpqMt"
      },
      "source": [
        "*   Create a histogram using the cluster centers for each image descriptor.\n",
        "    *   Remember the histogram would be of size *n_images x n_clusters*."
      ]
    },
    {
      "cell_type": "code",
      "execution_count": 28,
      "metadata": {
        "colab": {
          "base_uri": "https://localhost:8080/",
          "height": 307
        },
        "id": "SR0_9HnbDFBe",
        "outputId": "ec5aa112-1dfe-4f6c-e5ed-8becc67cf7d7"
      },
      "outputs": [
        {
          "output_type": "display_data",
          "data": {
            "text/plain": [
              "<Figure size 432x288 with 1 Axes>"
            ],
            "image/png": "[encoded data removed]"
          },
          "metadata": {
            "needs_background": "light"
          }
        }
      ],
      "source": [
        "plt.hist(kmeans.labels_, bins = 30)\n",
        "plt.suptitle('Histogram - Train Image Descriptor')\n",
        "plt.xlabel('Cluster')\n",
        "plt.ylabel('Descriptor')\n",
        "plt.show()"
      ]
    },
    {
      "cell_type": "markdown",
      "metadata": {
        "id": "jmRO7dfLjgZa"
      },
      "source": [
        "\n",
        "# Creating Classification Model\n",
        "\n",
        "*   The next step is to create a classification model. We will use a C-Support Vector Classification for creating the model.\n",
        "\n"
      ]
    },
    {
      "cell_type": "code",
      "execution_count": 29,
      "metadata": {
        "id": "K7VTBz1Oimtz"
      },
      "outputs": [],
      "source": [
        "from sklearn.svm import SVC\n",
        "from sklearn.model_selection import GridSearchCV"
      ]
    },
    {
      "cell_type": "markdown",
      "metadata": {
        "id": "lrit95Ud6pUU"
      },
      "source": [
        "*   Use GridSearchCV to find the optimal value of C and Gamma."
      ]
    },
    {
      "cell_type": "code",
      "execution_count": 30,
      "metadata": {
        "id": "IjFFpykV-GOI",
        "colab": {
          "base_uri": "https://localhost:8080/"
        },
        "outputId": "b735b635-3a69-4d8e-e522-490f9916cbea"
      },
      "outputs": [
        {
          "output_type": "execute_result",
          "data": {
            "text/plain": [
              "GridSearchCV(estimator=SVC(),\n",
              "             param_grid={'C': [0.1, 1, 10, 100, 1000],\n",
              "                         'gamma': [1, 0.1, 0.01, 0.001, 0.0001]})"
            ]
          },
          "metadata": {},
          "execution_count": 30
        }
      ],
      "source": [
        "# Define C and Gamma\n",
        "param_grid = {'C': [0.1, 1, 10, 100, 1000], 'gamma': [1, 0.1, 0.01, 0.001, 0.0001]} \n",
        "GS_SVC = GridSearchCV(SVC(), param_grid)\n",
        "\n",
        "# Get y data\n",
        "def get_y(x):\n",
        "  # Set y_train data\n",
        "  y = []\n",
        "  for label in x:  \n",
        "    y += [label[1]]\n",
        "  return y\n",
        "\n",
        "y_train = get_y(x_train)\n",
        "\n",
        "# Fitting the model for grid search\n",
        "GS_SVC.fit(x_train_descriptors_reshape, y_train)"
      ]
    },
    {
      "cell_type": "markdown",
      "metadata": {
        "id": "eqThTmO5j1-p"
      },
      "source": [
        "# Testing the Classification Model\n",
        "\n",
        "*   Extract descriptors using ORB for the test split\n",
        "*   Use the previously trained k-means to generate the histogram\n",
        "*   Use the classifier to predict the label\n"
      ]
    },
    {
      "cell_type": "code",
      "execution_count": 31,
      "metadata": {
        "id": "x2Gzbww9e0pP",
        "colab": {
          "base_uri": "https://localhost:8080/",
          "height": 389
        },
        "outputId": "16b46876-3b90-439a-e5ef-172516cdafe5"
      },
      "outputs": [
        {
          "output_type": "display_data",
          "data": {
            "text/plain": [
              "<Figure size 432x288 with 1 Axes>"
            ],
            "image/png": "[encoded data removed]"
          },
          "metadata": {
            "needs_background": "light"
          }
        },
        {
          "output_type": "stream",
          "name": "stdout",
          "text": [
            "Prediction: ['butterfly' 'butterfly' 'butterfly' 'kangaroo' 'butterfly' 'butterfly'\n",
            " 'butterfly' 'butterfly' 'kangaroo' 'kangaroo' 'kangaroo' 'butterfly'\n",
            " 'butterfly' 'kangaroo' 'butterfly' 'kangaroo' 'kangaroo' 'kangaroo'\n",
            " 'kangaroo' 'kangaroo' 'kangaroo' 'dalmatian' 'dalmatian' 'dalmatian'\n",
            " 'dalmatian']\n"
          ]
        }
      ],
      "source": [
        "# List of descriptors\n",
        "x_test_descriptors = get_descriptors(x_test, ORB_detector)\n",
        "\n",
        "# Reshape test data\n",
        "x_test_descriptors_reshape = reshaper(x_test_descriptors)\n",
        "\n",
        "# Histogram\n",
        "kmeans = MiniBatchKMeans(n_clusters=25).fit(x_test_descriptors_reshape)\n",
        "plt.hist(kmeans.labels_, bins = 30)\n",
        "plt.suptitle('Histogram - Test Image Descriptor')\n",
        "plt.xlabel('Cluster')\n",
        "plt.ylabel('Descriptor')\n",
        "plt.show()\n",
        "\n",
        "# Prediction\n",
        "y_pred = GS_SVC.predict(x_test_descriptors_reshape)\n",
        "print('Prediction:', y_pred)"
      ]
    },
    {
      "cell_type": "markdown",
      "metadata": {
        "id": "gGyQUtU3lAEz"
      },
      "source": [
        "*   Calculate the accuracy score for the classification model"
      ]
    },
    {
      "cell_type": "code",
      "execution_count": 32,
      "metadata": {
        "id": "PszxSB0Ek_Lt",
        "colab": {
          "base_uri": "https://localhost:8080/"
        },
        "outputId": "761b4166-e1d2-4060-f5ab-195c4e43fee7"
      },
      "outputs": [
        {
          "output_type": "stream",
          "name": "stdout",
          "text": [
            "['butterfly' 'butterfly' 'butterfly' 'kangaroo' 'butterfly' 'butterfly'\n",
            " 'butterfly' 'butterfly' 'kangaroo' 'kangaroo' 'kangaroo' 'butterfly'\n",
            " 'butterfly' 'kangaroo' 'butterfly' 'kangaroo' 'kangaroo' 'kangaroo'\n",
            " 'kangaroo' 'kangaroo' 'kangaroo' 'dalmatian' 'dalmatian' 'dalmatian'\n",
            " 'dalmatian']\n"
          ]
        },
        {
          "output_type": "execute_result",
          "data": {
            "text/plain": [
              "0.68"
            ]
          },
          "metadata": {},
          "execution_count": 32
        }
      ],
      "source": [
        "# Set y_train data\n",
        "y_test = get_y(x_test)\n",
        "print(y_pred)\n",
        "# Accuracy\n",
        "GS_SVC.score(x_test_descriptors_reshape, y_test)"
      ]
    },
    {
      "cell_type": "markdown",
      "metadata": {
        "id": "drlq-5AM615_"
      },
      "source": [
        "*   Generate the confusion matrix for the classification model"
      ]
    },
    {
      "cell_type": "code",
      "execution_count": 33,
      "metadata": {
        "id": "NpqXVYrw61OG",
        "colab": {
          "base_uri": "https://localhost:8080/"
        },
        "outputId": "50e73c19-d8c7-4a5b-cd05-857c182f8ba7"
      },
      "outputs": [
        {
          "output_type": "execute_result",
          "data": {
            "text/plain": [
              "array([[7, 2, 0],\n",
              "       [3, 6, 0],\n",
              "       [0, 3, 4]])"
            ]
          },
          "metadata": {},
          "execution_count": 33
        }
      ],
      "source": [
        "from sklearn.metrics import confusion_matrix\n",
        "# Confusion Matrix\n",
        "confusion_matrix(y_test, y_pred, labels=['butterfly', 'kangaroo', 'dalmatian'])"
      ]
    },
    {
      "cell_type": "markdown",
      "metadata": {
        "id": "7TN4rRra9yv_"
      },
      "source": [
        "*   Why do we use Clustering to create the codebook? \n",
        "*   What are the other techniques that can be used to create the codebook?"
      ]
    },
    {
      "cell_type": "markdown",
      "metadata": {
        "id": "Ri9kU3wa3Rei"
      },
      "source": [
        "**Solution**\n",
        "\n",
        "*   Clustering is used to create a codebook, in order to compress the descriptors into a set of visual words. Without clustering, the number of features would be extremely large in the presence of several distinct images. It is more suitable to group similar descriptors into groups and uses centroids as visual words. \n",
        "\n",
        "\n",
        "*   To do the clustering there are several different unsupervised methods such as:\n",
        "\n",
        "    1. K-means++\n",
        "    2. Bisecting k-means\n",
        "    3. Fuzzy C-means\n",
        "    4. k-harmonic means\n",
        "\n",
        "    Since the clustering method doesn't know which points that are most relevant, it is also possible to add a step that sorts the words by their descriptive quality and reduces them to so-called Descriptive Visual Words."
      ]
    },
    {
      "cell_type": "markdown",
      "metadata": {
        "id": "b47OqebCOXpq"
      },
      "source": [
        "# Increased Feature Dimensions\n",
        "\n",
        "*   Repeat the classification using features of 256 ORB keypoints."
      ]
    },
    {
      "cell_type": "code",
      "execution_count": 34,
      "metadata": {
        "id": "CiY8GERXOxbB",
        "colab": {
          "base_uri": "https://localhost:8080/"
        },
        "outputId": "31108a70-24a3-4fb7-82e3-c04eaf9c1bb4"
      },
      "outputs": [
        {
          "output_type": "stream",
          "name": "stdout",
          "text": [
            "Accuracy:  0.36\n"
          ]
        },
        {
          "output_type": "execute_result",
          "data": {
            "text/plain": [
              "array([[8, 1, 0],\n",
              "       [8, 1, 0],\n",
              "       [5, 2, 0]])"
            ]
          },
          "metadata": {},
          "execution_count": 34
        }
      ],
      "source": [
        "# Creating the ORB detector\n",
        "ORB_detector = ORB(n_keypoints=256)\n",
        "\n",
        "## TRAIN\n",
        "# Get the descriptors from the train set\n",
        "x_train_descriptors = get_descriptors(x_train, ORB_detector)\n",
        "# Get the reshaped descriptors for the training set\n",
        "x_train_descriptors_reshape = reshaper(x_train_descriptors)\n",
        "\n",
        "# Train the model\n",
        "# Define C and Gamma\n",
        "param_grid = {'C': [0.1, 1, 10, 100, 1000], 'gamma': [1, 0.1, 0.01, 0.001, 0.0001]} \n",
        "GS_SVC = GridSearchCV(SVC(), param_grid)\n",
        "# Fitting the model for grid search\n",
        "GS_SVC.fit(x_train_descriptors_reshape, y_train)\n",
        "\n",
        "## TEST\n",
        "# Get the descriptors from the test set\n",
        "x_test_descriptors = get_descriptors(x_test, ORB_detector)\n",
        "# Get the reshaped descriptors for the test set\n",
        "x_test_descriptors_reshape = reshaper(x_test_descriptors)\n",
        "\n",
        "# Prediction\n",
        "y_pred = GS_SVC.predict(x_test_descriptors_reshape)\n",
        "\n",
        "# Accuracy\n",
        "print('Accuracy: ', GS_SVC.score(x_test_descriptors_reshape, y_test))\n",
        "\n",
        "# Confusion Matrix\n",
        "confusion_matrix(y_test, y_pred, labels=['butterfly', 'kangaroo', 'dalmatian'])"
      ]
    },
    {
      "cell_type": "markdown",
      "metadata": {
        "id": "Ucf5mIeHOzBf"
      },
      "source": [
        "*   What is the difference in classifier performance between using 64 keypoints and 256 keypoints?"
      ]
    },
    {
      "cell_type": "markdown",
      "metadata": {
        "id": "AJt7kpHcO5nV"
      },
      "source": [
        "**Solution**\n",
        "\n",
        "*   By increasing the number of key points, it is verified a dramatic reduction in the accuracy obtained. Quantitatively, the accuracy went from 68% to 36%, a discrepancy of 32%.\n",
        "\n",
        "    According to the confusion matrices, it is observed that a considerable majority of the images are classified as butterfly. Furthermore, no image is classified as dalmatian and only one is correctly addressed as a kangaroo. According to these values, the excess of detail represented by the descriptors does not constitute useful information for the classification algorithm. In this case, it loses, almost totally, the capacity to identify kangaroo or dalmatian."
      ]
    },
    {
      "cell_type": "markdown",
      "metadata": {
        "id": "ll0j8G-oIaHd"
      },
      "source": [
        "*   Will further adding more keypoints increase the performance of the algorithm?"
      ]
    },
    {
      "cell_type": "markdown",
      "metadata": {
        "id": "ka3z1sJVInS5"
      },
      "source": [
        "**Solution**\n",
        "\n",
        "*   According to the previous analysis, the increment in the number of features does not necessarily increase or decrease the accuracy of a classification algorithm. The evolution of the accuracy depends on the number of key points considered priorly.\n",
        "\n",
        "    For example, from 10 to 64 (1st exercise) key points the accuracy increases, because for the image size considered, only 10 descriptors are not sufficient for a further algorithm successfully label the test set. So, with 64 key points, the information of the image is more detailed, which benefits the algorithm.\n",
        "    \n",
        "    On the contrary, increasing the key points from 64 to 256 decreases the accuracy. This is due to the fact that with 256 the image description is over-detailed, and a considerable amount of this information is not useful. Consequentially, it is inserted in the classification algorithm irrelevant information that is not characteristic of that label. In fact, it is just noise. Therefore, the algorithm performs worse than in the first case.\n",
        "\n",
        "    Overall, it is intended that the descriptors represent the useful information of image related to the correspondent label. For instance, if it is pretended to identify a kangaroo, it is more suitable to have descriptors related to key points of the kangaroo in the image, than of the background.\n",
        "\n",
        "    As a final note, in order to utilize more key points, a descriptive reduction step should be added to the clustering. This way, it is possible to select the most informative ones for the classification process."
      ]
    },
    {
      "cell_type": "markdown",
      "metadata": {
        "id": "NnN_t5Me7N5O"
      },
      "source": [
        "\n",
        "---\n",
        "\n",
        "## **End of P3_2: Image Classification using Bag of Visual Words**\n",
        "Deadline for P3_2 submission in CampusVirtual is: **Thursday, the 17th of November, 2022**"
      ]
    }
  ],
  "metadata": {
    "colab": {
      "toc_visible": true,
      "provenance": []
    },
    "kernelspec": {
      "display_name": "Python 3",
      "name": "python3"
    }
  },
  "nbformat": 4,
  "nbformat_minor": 0
}